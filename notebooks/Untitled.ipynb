{
 "cells": [
  {
   "cell_type": "code",
   "execution_count": 2,
   "id": "9f45dd9a",
   "metadata": {},
   "outputs": [],
   "source": [
    "import pandas as pd\n",
    "import json\n",
    "import requests"
   ]
  },
  {
   "cell_type": "code",
   "execution_count": 3,
   "id": "b6a27694",
   "metadata": {},
   "outputs": [],
   "source": [
    "BIBS_MAPPING = {'LASH': 'BU Lettres Arts Sciences Humaines',\n",
    "          'DROIT': 'BU Droit et Science politique',\n",
    "          'SJA': 'BU Saint-Jean d’Angély'}"
   ]
  },
  {
   "cell_type": "code",
   "execution_count": 4,
   "id": "90c31402",
   "metadata": {
    "scrolled": true
   },
   "outputs": [
    {
     "data": {
      "text/plain": [
       "[{'acquisition_date': '2019-07-11',\n",
       "  'biblio_id': 273173,\n",
       "  'callnumber': '343.072 ROD',\n",
       "  'checked_out_date': None,\n",
       "  'copy_number': None,\n",
       "  'damaged_status': 0,\n",
       "  'external_id': '0962099516',\n",
       "  'holding_library_id': 'DROIT',\n",
       "  'home_library_id': 'DROIT',\n",
       "  'item_id': 500130,\n",
       "  'item_type_id': 'NOR',\n",
       "  'location': 'PASS0',\n",
       "  'lost_status': 0,\n",
       "  'not_for_loan_status': 0,\n",
       "  'public_notes': None,\n",
       "  'restricted_status': None,\n",
       "  'serial_issue_number': None,\n",
       "  'uri': None,\n",
       "  'withdrawn': 0},\n",
       " {'acquisition_date': '2019-07-11',\n",
       "  'biblio_id': 273173,\n",
       "  'callnumber': '343.072 ROD',\n",
       "  'checked_out_date': None,\n",
       "  'copy_number': None,\n",
       "  'damaged_status': 0,\n",
       "  'external_id': '0962099517',\n",
       "  'holding_library_id': 'DROIT',\n",
       "  'home_library_id': 'DROIT',\n",
       "  'item_id': 500131,\n",
       "  'item_type_id': 'NOR',\n",
       "  'location': 'PASS0',\n",
       "  'lost_status': 0,\n",
       "  'not_for_loan_status': 0,\n",
       "  'public_notes': None,\n",
       "  'restricted_status': None,\n",
       "  'serial_issue_number': None,\n",
       "  'uri': None,\n",
       "  'withdrawn': 0},\n",
       " {'acquisition_date': '2019-07-11',\n",
       "  'biblio_id': 273173,\n",
       "  'callnumber': '343.072 ROD',\n",
       "  'checked_out_date': None,\n",
       "  'copy_number': None,\n",
       "  'damaged_status': 0,\n",
       "  'external_id': '0962099518',\n",
       "  'holding_library_id': 'LASH',\n",
       "  'home_library_id': 'DROIT',\n",
       "  'item_id': 500132,\n",
       "  'item_type_id': 'NOR',\n",
       "  'location': 'PASS1',\n",
       "  'lost_status': 0,\n",
       "  'not_for_loan_status': 0,\n",
       "  'public_notes': None,\n",
       "  'restricted_status': None,\n",
       "  'serial_issue_number': None,\n",
       "  'uri': None,\n",
       "  'withdrawn': 0}]"
      ]
     },
     "execution_count": 4,
     "metadata": {},
     "output_type": "execute_result"
    }
   ],
   "source": [
    "url = \"https://catalogue-bu-cotedazur-koha.preprod.biblibre.eu/api/v1/public/biblios/273173/items\"\n",
    "response = requests.request(\"GET\", url).text\n",
    "data = json.loads(response)\n",
    "data"
   ]
  },
  {
   "cell_type": "code",
   "execution_count": 24,
   "id": "30621e4d",
   "metadata": {},
   "outputs": [
    {
     "data": {
      "text/plain": [
       "[{'checked_out_date': 'Disponible',\n",
       "  'home_library_id': 'BU Droit et Science politique',\n",
       "  'location': 'PASS0',\n",
       "  'callnumber': '343.072 ROD'},\n",
       " {'checked_out_date': 'Disponible',\n",
       "  'home_library_id': 'BU Droit et Science politique',\n",
       "  'location': 'PASS0',\n",
       "  'callnumber': '343.072 ROD'},\n",
       " {'checked_out_date': 'Indisponible : en transfert',\n",
       "  'home_library_id': 'BU Droit et Science politique',\n",
       "  'location': 'PASS1',\n",
       "  'callnumber': '343.072 ROD'}]"
      ]
     },
     "execution_count": 24,
     "metadata": {},
     "output_type": "execute_result"
    }
   ],
   "source": [
    "def extract_items(item):\n",
    "    result = {}\n",
    "    if (item['checked_out_date'] is None) & (item[\"holding_library_id\"] == item[\"home_library_id\"]):\n",
    "        result['checked_out_date'] = 'Disponible'\n",
    "    elif (item['checked_out_date'] is None) & (item[\"holding_library_id\"] != item[\"home_library_id\"]):\n",
    "        result['checked_out_date'] = 'Indisponible : en transfert'\n",
    "    #elif item['checked_out_date'] is not None:\n",
    "    else:\n",
    "        result['checked_out_date'] = 'Indisponible : emprunté'\n",
    "    result[\"home_library_id\"] = BIBS_MAPPING[item[\"home_library_id\"]]\n",
    "    result[\"location\"] = item[\"location\"]\n",
    "    result[\"callnumber\"] = item[\"callnumber\"]\n",
    "    return result\n",
    "new_data = [extract_items(i) for i in data]\n",
    "new_data"
   ]
  },
  {
   "cell_type": "code",
   "execution_count": 14,
   "id": "3bb71168",
   "metadata": {},
   "outputs": [
    {
     "name": "stdout",
     "output_type": "stream",
     "text": [
      "acquisition_date 2019-07-11\n",
      "biblio_id 273173\n",
      "callnumber 343.072 ROD\n",
      "checked_out_date None\n",
      "copy_number None\n",
      "damaged_status 0\n",
      "external_id 0962099516\n",
      "holding_library_id DROIT\n",
      "home_library_id DROIT\n",
      "item_id 500130\n",
      "item_type_id NOR\n",
      "location PASS0\n",
      "lost_status 0\n",
      "not_for_loan_status 0\n",
      "public_notes None\n",
      "restricted_status None\n",
      "serial_issue_number None\n",
      "uri None\n",
      "withdrawn 0\n",
      "acquisition_date 2019-07-11\n",
      "biblio_id 273173\n",
      "callnumber 343.072 ROD\n",
      "checked_out_date None\n",
      "copy_number None\n",
      "damaged_status 0\n",
      "external_id 0962099517\n",
      "holding_library_id DROIT\n",
      "home_library_id DROIT\n",
      "item_id 500131\n",
      "item_type_id NOR\n",
      "location PASS0\n",
      "lost_status 0\n",
      "not_for_loan_status 0\n",
      "public_notes None\n",
      "restricted_status None\n",
      "serial_issue_number None\n",
      "uri None\n",
      "withdrawn 0\n",
      "acquisition_date 2019-07-11\n",
      "biblio_id 273173\n",
      "callnumber 343.072 ROD\n",
      "checked_out_date None\n",
      "copy_number None\n",
      "damaged_status 0\n",
      "external_id 0962099518\n",
      "holding_library_id LASH\n",
      "home_library_id DROIT\n",
      "item_id 500132\n",
      "item_type_id NOR\n",
      "location PASS1\n",
      "lost_status 0\n",
      "not_for_loan_status 0\n",
      "public_notes None\n",
      "restricted_status None\n",
      "serial_issue_number None\n",
      "uri None\n",
      "withdrawn 0\n"
     ]
    }
   ],
   "source": [
    "for dic in data:\n",
    "    for val,cal in dic.items():\n",
    "        print(val,cal)"
   ]
  },
  {
   "cell_type": "code",
   "execution_count": null,
   "id": "dbaba96e",
   "metadata": {},
   "outputs": [],
   "source": [
    "result = "
   ]
  }
 ],
 "metadata": {
  "kernelspec": {
   "display_name": "Python 3 (ipykernel)",
   "language": "python",
   "name": "python3"
  },
  "language_info": {
   "codemirror_mode": {
    "name": "ipython",
    "version": 3
   },
   "file_extension": ".py",
   "mimetype": "text/x-python",
   "name": "python",
   "nbconvert_exporter": "python",
   "pygments_lexer": "ipython3",
   "version": "3.8.13"
  }
 },
 "nbformat": 4,
 "nbformat_minor": 5
}
